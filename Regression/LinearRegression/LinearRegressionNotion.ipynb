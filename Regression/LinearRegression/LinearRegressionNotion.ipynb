{
 "cells": [
  {
   "cell_type": "markdown",
   "id": "round-waterproof",
   "metadata": {},
   "source": [
    "# Source\n",
    "[Linear Regression](https://www.youtube.com/watch?v=E5RjzSK0fvY)"
   ]
  },
  {
   "cell_type": "markdown",
   "id": "protective-neighbor",
   "metadata": {},
   "source": [
    "### Formulas:\n",
    "\n",
    "yHat = b0 + b1 * x\n",
    "\n",
    "b1 = sum(x - mean(x) ) * (y - mean(y) ) / sum(x - mean(x) ) ** 2\n",
    "\n",
    "b0 = mean(y) - b1 * mean(x)"
   ]
  },
  {
   "cell_type": "markdown",
   "id": "phantom-bristol",
   "metadata": {},
   "source": [
    "## Importing matplotlib"
   ]
  },
  {
   "cell_type": "code",
   "execution_count": 1,
   "id": "extensive-collar",
   "metadata": {},
   "outputs": [],
   "source": [
    "import matplotlib.pyplot as plt\n",
    "import numpy as np\n",
    "import pandas as pd"
   ]
  },
  {
   "cell_type": "markdown",
   "id": "assured-ocean",
   "metadata": {},
   "source": [
    "## Creating a data X and y"
   ]
  },
  {
   "cell_type": "code",
   "execution_count": 2,
   "id": "dangerous-elimination",
   "metadata": {},
   "outputs": [],
   "source": [
    "X = [1, 2, 3, 4, 5]\n",
    "Y = [3, 4, 2, 4, 5]"
   ]
  },
  {
   "cell_type": "markdown",
   "id": "thirty-package",
   "metadata": {},
   "source": [
    "## Plotting the data"
   ]
  },
  {
   "cell_type": "code",
   "execution_count": 3,
   "id": "cloudy-train",
   "metadata": {},
   "outputs": [
    {
     "data": {
      "image/png": "[encoded data removed]",
      "text/plain": [
       "<Figure size 432x288 with 1 Axes>"
      ]
     },
     "metadata": {
      "needs_background": "light"
     },
     "output_type": "display_data"
    }
   ],
   "source": [
    "plt.scatter(X, Y, c=\"Blue\")\n",
    "plt.show()"
   ]
  },
  {
   "cell_type": "markdown",
   "id": "buried-spoke",
   "metadata": {},
   "source": [
    "## Getting the mean of X and y"
   ]
  },
  {
   "cell_type": "code",
   "execution_count": 4,
   "id": "imposed-africa",
   "metadata": {},
   "outputs": [
    {
     "data": {
      "text/plain": [
       "3.0"
      ]
     },
     "execution_count": 4,
     "metadata": {},
     "output_type": "execute_result"
    }
   ],
   "source": [
    "meanX = np.mean(X)\n",
    "meanX"
   ]
  },
  {
   "cell_type": "code",
   "execution_count": 5,
   "id": "academic-upper",
   "metadata": {},
   "outputs": [
    {
     "data": {
      "text/plain": [
       "3.6"
      ]
     },
     "execution_count": 5,
     "metadata": {},
     "output_type": "execute_result"
    }
   ],
   "source": [
    "meanY = np.mean(Y)\n",
    "meanY"
   ]
  },
  {
   "cell_type": "markdown",
   "id": "exclusive-singing",
   "metadata": {},
   "source": [
    "## Plotting the mean point"
   ]
  },
  {
   "cell_type": "code",
   "execution_count": 6,
   "id": "functioning-communications",
   "metadata": {},
   "outputs": [
    {
     "data": {
      "image/png": "[encoded data removed]",
      "text/plain": [
       "<Figure size 432x288 with 1 Axes>"
      ]
     },
     "metadata": {
      "needs_background": "light"
     },
     "output_type": "display_data"
    }
   ],
   "source": [
    "plt.scatter(X, Y, c=\"Blue\")\n",
    "plt.scatter(meanX, meanY, c=\"Red\")\n",
    "plt.show()"
   ]
  },
  {
   "cell_type": "markdown",
   "id": "unnecessary-consortium",
   "metadata": {},
   "source": [
    "## Calculating X - Mean of X"
   ]
  },
  {
   "cell_type": "code",
   "execution_count": 7,
   "id": "civil-bidder",
   "metadata": {},
   "outputs": [
    {
     "name": "stdout",
     "output_type": "stream",
     "text": [
      "[-2. -1.  0.  1.  2.]\n"
     ]
    }
   ],
   "source": [
    "x_M_meanX = X - meanX\n",
    "\n",
    "print(x_M_meanX)"
   ]
  },
  {
   "cell_type": "markdown",
   "id": "practical-finder",
   "metadata": {},
   "source": [
    "## Calculating y - Mean of y"
   ]
  },
  {
   "cell_type": "code",
   "execution_count": 8,
   "id": "about-shock",
   "metadata": {},
   "outputs": [
    {
     "name": "stdout",
     "output_type": "stream",
     "text": [
      "[-0.6  0.4 -1.6  0.4  1.4]\n"
     ]
    }
   ],
   "source": [
    "y_M_meanY = Y - meanY\n",
    "\n",
    "print(y_M_meanY)"
   ]
  },
  {
   "cell_type": "markdown",
   "id": "specific-valley",
   "metadata": {},
   "source": [
    "## Calculating (X - Mean of X)<sup>2</sup> (W)"
   ]
  },
  {
   "cell_type": "code",
   "execution_count": 9,
   "id": "freelance-donna",
   "metadata": {},
   "outputs": [
    {
     "name": "stdout",
     "output_type": "stream",
     "text": [
      "[4. 1. 0. 1. 4.]\n"
     ]
    }
   ],
   "source": [
    "W = x_M_meanX ** 2\n",
    "\n",
    "print(W)"
   ]
  },
  {
   "cell_type": "markdown",
   "id": "innocent-quarterly",
   "metadata": {},
   "source": [
    "## Calculating of (X - Mean of X)  * (y - Mean of y) (Z)"
   ]
  },
  {
   "cell_type": "code",
   "execution_count": 10,
   "id": "aquatic-boost",
   "metadata": {},
   "outputs": [
    {
     "name": "stdout",
     "output_type": "stream",
     "text": [
      "[ 1.2 -0.4 -0.   0.4  2.8]\n"
     ]
    }
   ],
   "source": [
    "Z = x_M_meanX * y_M_meanY\n",
    "\n",
    "print(Z)"
   ]
  },
  {
   "cell_type": "markdown",
   "id": "common-peoples",
   "metadata": {},
   "source": [
    "## Getting the summation of (X - Mean of X)<sup>2</sup> and (X - Mean of X)  * (y - Mean of y)"
   ]
  },
  {
   "cell_type": "code",
   "execution_count": 11,
   "id": "allied-perfume",
   "metadata": {},
   "outputs": [
    {
     "name": "stdout",
     "output_type": "stream",
     "text": [
      "4.0\n",
      "10.0\n"
     ]
    }
   ],
   "source": [
    "SumZ = np.sum(Z)\n",
    "SumW = np.sum(W)\n",
    "\n",
    "print(SumZ)\n",
    "print(SumW)"
   ]
  },
  {
   "cell_type": "markdown",
   "id": "endless-belgium",
   "metadata": {},
   "source": [
    "## Equation y = mx + c"
   ]
  },
  {
   "cell_type": "code",
   "execution_count": 12,
   "id": "bigger-jersey",
   "metadata": {},
   "outputs": [
    {
     "name": "stdout",
     "output_type": "stream",
     "text": [
      "3.6\n",
      "0.4\n",
      "3.0\n"
     ]
    }
   ],
   "source": [
    "y = meanY\n",
    "m = SumZ / SumW\n",
    "x = meanX\n",
    "\n",
    "print(y)\n",
    "print(m)\n",
    "print(x)"
   ]
  },
  {
   "cell_type": "code",
   "execution_count": 13,
   "id": "casual-sheffield",
   "metadata": {},
   "outputs": [
    {
     "name": "stdout",
     "output_type": "stream",
     "text": [
      "2.4\n"
     ]
    }
   ],
   "source": [
    "c = y - (m * x) \n",
    "\n",
    "print(c)"
   ]
  },
  {
   "cell_type": "markdown",
   "id": "little-netscape",
   "metadata": {},
   "source": [
    "## Calculating the fit line"
   ]
  },
  {
   "cell_type": "code",
   "execution_count": 14,
   "id": "above-sydney",
   "metadata": {},
   "outputs": [],
   "source": [
    "Fl = []\n",
    "for i in X:\n",
    "    Fl.append(m * i + c)"
   ]
  },
  {
   "cell_type": "markdown",
   "id": "domestic-republican",
   "metadata": {},
   "source": [
    "## Plotting the fit line"
   ]
  },
  {
   "cell_type": "code",
   "execution_count": 15,
   "id": "instant-improvement",
   "metadata": {},
   "outputs": [
    {
     "data": {
      "image/png": "[encoded data removed]",
      "text/plain": [
       "<Figure size 432x288 with 1 Axes>"
      ]
     },
     "metadata": {
      "needs_background": "light"
     },
     "output_type": "display_data"
    }
   ],
   "source": [
    "plt.scatter(X, Y, c=\"Blue\")\n",
    "plt.plot(X , Fl, c=\"Red\")\n",
    "plt.show()"
   ]
  },
  {
   "cell_type": "markdown",
   "id": "beautiful-architect",
   "metadata": {},
   "source": [
    "# Calculation of R<sup>2</sup>"
   ]
  },
  {
   "cell_type": "markdown",
   "id": "pursuant-spread",
   "metadata": {},
   "source": [
    "## Calculating (y - mean of y)<sup>2</sup> (K)"
   ]
  },
  {
   "cell_type": "code",
   "execution_count": 16,
   "id": "differential-destiny",
   "metadata": {},
   "outputs": [
    {
     "name": "stdout",
     "output_type": "stream",
     "text": [
      "[0.36 0.16 2.56 0.16 1.96]\n"
     ]
    }
   ],
   "source": [
    "K = y_M_meanY ** 2\n",
    "\n",
    "print(K)"
   ]
  },
  {
   "cell_type": "markdown",
   "id": "internal-extraction",
   "metadata": {},
   "source": [
    "## y<sub>p<sub>"
   ]
  },
  {
   "cell_type": "code",
   "execution_count": 17,
   "id": "diagnostic-closing",
   "metadata": {},
   "outputs": [
    {
     "name": "stdout",
     "output_type": "stream",
     "text": [
      "[2.8, 3.2, 3.6, 4.0, 4.4]\n"
     ]
    }
   ],
   "source": [
    "print(Fl)"
   ]
  },
  {
   "cell_type": "markdown",
   "id": "established-chase",
   "metadata": {},
   "source": [
    "## Calculating (y<sub>p</sub> -  mean of y)"
   ]
  },
  {
   "cell_type": "code",
   "execution_count": 18,
   "id": "planned-mount",
   "metadata": {},
   "outputs": [
    {
     "name": "stdout",
     "output_type": "stream",
     "text": [
      "[-0.8 -0.4  0.   0.4  0.8]\n"
     ]
    }
   ],
   "source": [
    "yP_M_meanY = Fl - meanY\n",
    "\n",
    "print(yP_M_meanY)"
   ]
  },
  {
   "cell_type": "markdown",
   "id": "least-atlanta",
   "metadata": {},
   "source": [
    "## Calculating (y<sub>p</sub> -  mean of y)<sup>2</sup> (F)"
   ]
  },
  {
   "cell_type": "code",
   "execution_count": 19,
   "id": "western-morrison",
   "metadata": {},
   "outputs": [
    {
     "name": "stdout",
     "output_type": "stream",
     "text": [
      "[0.64 0.16 0.   0.16 0.64]\n"
     ]
    }
   ],
   "source": [
    "F = yP_M_meanY ** 2\n",
    "\n",
    "print(F)"
   ]
  },
  {
   "cell_type": "markdown",
   "id": "polyphonic-petroleum",
   "metadata": {},
   "source": [
    "## Getting the summation of (y<sub>p</sub> -  mean of y)<sup>2</sup> and (y - mean of y)<sup>2</sup>"
   ]
  },
  {
   "cell_type": "code",
   "execution_count": 20,
   "id": "reflected-celebration",
   "metadata": {},
   "outputs": [
    {
     "name": "stdout",
     "output_type": "stream",
     "text": [
      "1.6000000000000008\n",
      "5.2\n"
     ]
    }
   ],
   "source": [
    "SumF = np.sum(F)\n",
    "SumK = np.sum(K)\n",
    "\n",
    "print(SumF)\n",
    "print(SumK)"
   ]
  },
  {
   "cell_type": "markdown",
   "id": "competent-canyon",
   "metadata": {},
   "source": [
    "## Calculating R2"
   ]
  },
  {
   "cell_type": "code",
   "execution_count": 21,
   "id": "acoustic-arrest",
   "metadata": {},
   "outputs": [
    {
     "name": "stdout",
     "output_type": "stream",
     "text": [
      "0.3076923076923078\n"
     ]
    }
   ],
   "source": [
    "r2 = SumF / SumK\n",
    "\n",
    "print(r2)"
   ]
  },
  {
   "cell_type": "markdown",
   "id": "mathematical-mineral",
   "metadata": {},
   "source": [
    "### Closer to 1 the better the algorithm perform"
   ]
  }
 ],
 "metadata": {
  "kernelspec": {
   "display_name": "Python 3",
   "language": "python",
   "name": "python3"
  },
  "language_info": {
   "codemirror_mode": {
    "name": "ipython",
    "version": 3
   },
   "file_extension": ".py",
   "mimetype": "text/x-python",
   "name": "python",
   "nbconvert_exporter": "python",
   "pygments_lexer": "ipython3",
   "version": "3.8.3"
  }
 },
 "nbformat": 4,
 "nbformat_minor": 5
}
